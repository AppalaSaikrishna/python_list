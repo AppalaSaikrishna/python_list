{
  "nbformat": 4,
  "nbformat_minor": 0,
  "metadata": {
    "colab": {
      "provenance": [],
      "authorship_tag": "ABX9TyPKFxOtV2IwbpJx/yKf8BEQ",
      "include_colab_link": true
    },
    "kernelspec": {
      "name": "python3",
      "display_name": "Python 3"
    },
    "language_info": {
      "name": "python"
    }
  },
  "cells": [
    {
      "cell_type": "markdown",
      "metadata": {
        "id": "view-in-github",
        "colab_type": "text"
      },
      "source": [
        "<a href=\"https://colab.research.google.com/github/AppalaSaikrishna/python_list/blob/main/Untitled6.ipynb\" target=\"_parent\"><img src=\"https://colab.research.google.com/assets/colab-badge.svg\" alt=\"Open In Colab\"/></a>"
      ]
    },
    {
      "cell_type": "code",
      "execution_count": 12,
      "metadata": {
        "id": "iCkjmFMR9LFi"
      },
      "outputs": [],
      "source": [
        "import google.generativeai as genai\n",
        "from google.colab import userdata\n",
        "GOOGLE_API_KEY=userdata.get('GOOGLE_API_KEY')\n",
        "genai.configure(api_key=GOOGLE_API_KEY)"
      ]
    },
    {
      "cell_type": "code",
      "source": [
        "pip install PyPDF2"
      ],
      "metadata": {
        "colab": {
          "base_uri": "https://localhost:8080/"
        },
        "id": "SXHdZfOU_X1a",
        "outputId": "76d2feb9-57e8-44c4-9114-82ee3264585c"
      },
      "execution_count": 13,
      "outputs": [
        {
          "output_type": "stream",
          "name": "stdout",
          "text": [
            "Requirement already satisfied: PyPDF2 in /usr/local/lib/python3.11/dist-packages (3.0.1)\n"
          ]
        }
      ]
    },
    {
      "cell_type": "code",
      "source": [
        "import PyPDF2\n",
        "def extract_text_from_pdf(pdf_path):\n",
        "    \"\"\"Extracts text from a given health report PDF using PyPDF2.\"\"\"\n",
        "    text = \"\"\n",
        "    with open(pdf_path, \"rb\") as file:\n",
        "        reader = PyPDF2.PdfReader(file)\n",
        "        for page in reader.pages:\n",
        "            text += page.extract_text() + \"\\n\"\n",
        "    return text"
      ],
      "metadata": {
        "id": "A7H5uLWA_dp9"
      },
      "execution_count": 14,
      "outputs": []
    },
    {
      "cell_type": "code",
      "source": [
        "def extract_health_insights(text):\n",
        "  \"\"\"Asks Gemini AI to extract key medical insights from the report.\"\"\"\n",
        "  model = genai.GenerativeModel(\"gemini-1.5-flash\")\n",
        "  prompt = f\"Extract key insights from the following health report:\\n\\n{text}\"\n",
        "  response = model.generate_content(prompt)\n",
        "  return response.text\n"
      ],
      "metadata": {
        "id": "eSjiJ1Mc_2yR"
      },
      "execution_count": 17,
      "outputs": []
    },
    {
      "cell_type": "code",
      "source": [
        "pdf_file = \"health_report.pdf\"\n",
        "extracted_text = extract_text_from_pdf(pdf_file)\n",
        "insights = extract_health_insights(extracted_text)\n",
        "print(\"Key insights:\\n\",insights)"
      ],
      "metadata": {
        "colab": {
          "base_uri": "https://localhost:8080/",
          "height": 508
        },
        "id": "zwXs0P0bCo0A",
        "outputId": "a7036516-69b6-4202-e4bd-7e5222ef7a18"
      },
      "execution_count": 18,
      "outputs": [
        {
          "output_type": "stream",
          "name": "stdout",
          "text": [
            "Key insights:\n",
            " Mr. Kishan Goud's (MR2100003157) health report from February 1st, 2021, reveals the following key insights:\n",
            "\n",
            "**Infections:**\n",
            "\n",
            "* **Widal Test:** Elevated titers for *Salmonella Typhi* \"O\" (1:160) and \"H\" (1:80) suggest a possible past or present *Salmonella Typhi* infection (typhoid fever).  *Salmonella Paratyphi* \"AH\" and \"BH\" titers are within the normal range.  The interpretation requires clinical correlation.\n",
            "\n",
            "* **Dengue:**  Negative results for Dengue NS1 antigen, IgG, and IgM antibodies rule out a recent or current dengue infection.\n",
            "\n",
            "* **Malaria:**  Negative rapid malaria tests for *Plasmodium falciparum* and *Plasmodium vivax* indicate the absence of malaria.\n",
            "\n",
            "**Blood Work:**\n",
            "\n",
            "* **Complete Blood Picture (CBC):**  All blood counts (Hemoglobin, RBC, WBC, Platelets, PCV) are within normal ranges.  Differential count shows normal neutrophil and lymphocyte percentages.\n",
            "\n",
            "* **Erythrocyte Sedimentation Rate (ESR):** Elevated ESR (26 mm/hr in the first hour and 52 mm/hr in the second hour). This indicates inflammation or infection, which aligns with the possible typhoid finding from the Widal test.  Further investigation may be needed.\n",
            "\n",
            "* **HbA1c:**  Within the normal non-diabetic range (5.4%), indicating good blood sugar control.\n",
            "\n",
            "* **Blood Chemistry:**  Liver function tests (bilirubin, alkaline phosphatase, SGOT, SGPT, total protein, albumin) are all within normal ranges. Serum creatinine is within normal range suggesting normal kidney function.  Electrolytes show serum sodium slightly below the lower end of the normal range;  potassium and chloride are within the normal ranges.\n",
            "\n",
            "\n",
            "**Summary:**\n",
            "\n",
            "The most significant finding is the elevated *Salmonella Typhi* titers in the Widal test, suggesting possible typhoid.  The elevated ESR supports the presence of inflammation.  All other tests for infectious diseases (dengue, malaria) were negative.  Blood counts and most blood chemistry results are within normal limits, though the slightly low sodium warrants monitoring.  The clinical significance of the findings should be interpreted by Mr. Goud's physician, Dr. Krishna Prasad, considering his overall clinical picture and symptoms.\n",
            "\n"
          ]
        }
      ]
    },
    {
      "cell_type": "code",
      "source": [
        "def summarize_health_report(text):\n",
        "  \"\"\"Summarizes the health report using Gemini AI.\"\"\"\n",
        "  model = genai.GenerativeModel(\"gemini-1.5-flash\")\n",
        "  prompt = f\"Summarize the following health report in a concise manner:\\n\\n{text}\"\n",
        "  response = model.generate_content(prompt)\n",
        "  return response.text\n",
        "\n",
        "summary = summarize_health_report(extracted_text)\n",
        "print(\"Summary:\\n\",summary)"
      ],
      "metadata": {
        "colab": {
          "base_uri": "https://localhost:8080/",
          "height": 91
        },
        "id": "GGJCUeEbDsDs",
        "outputId": "7791b5ea-edbb-4291-b3a1-6eb5ec6b38c3"
      },
      "execution_count": 21,
      "outputs": [
        {
          "output_type": "stream",
          "name": "stdout",
          "text": [
            "Summary:\n",
            " Mr. Kishan Goud's (MRN: MR2100003157) blood tests on 01/02/2021 showed:  Elevated ESR (26/52 mm/hr),  Widal test positive for *S. Typhi* O (1:160) and H (1:80),  negative for dengue and malaria.  Complete blood count, liver function tests, and serum electrolytes were mostly within normal limits, except for slightly low serum sodium (122 mmol/l).  HbA1c was 5.4%, within the normal non-diabetic range.  Creatinine and blood glucose were within normal ranges.\n",
            "\n"
          ]
        }
      ]
    },
    {
      "cell_type": "code",
      "source": [
        "def detect_abnormalities(text):\n",
        "  \"\"\"Analyzes lab test results and flags abnormal values.\"\"\"\n",
        "  model = genai.GenerativeModel(\"gemini-1.5-flash\")\n",
        "  prompt = f\"Analyze the lab test results in the following health report and highlight any abnormal values:\\n\\n{text}\"\n",
        "  response = model.generate_content(prompt)\n",
        "  return response.text\n",
        "\n",
        "abnormalities = detect_abnormalities(extracted_text)\n",
        "print(\"Potential Abnormalities:\\n\",abnormalities)"
      ],
      "metadata": {
        "colab": {
          "base_uri": "https://localhost:8080/",
          "height": 290
        },
        "id": "ZU8df9gfFxpK",
        "outputId": "43f584f4-6819-4a49-da28-be86096906e9"
      },
      "execution_count": 22,
      "outputs": [
        {
          "output_type": "stream",
          "name": "stdout",
          "text": [
            "Potential Abnormalities:\n",
            " Based on the provided lab results, the following values fall outside the reference ranges, indicating potential abnormalities:\n",
            "\n",
            "* **Widal Test:**  S. Typhi \"O\" (1:160) and S. Typhi \"H\" (1:80) are both elevated above the reference range (1:20).  This suggests a possible past or present infection with *Salmonella Typhi*, although the titre alone is not diagnostic and needs clinical correlation.\n",
            "\n",
            "* **ESR (Erythrocyte Sedimentation Rate):**  Both the 1st hour (26 mm/hr) and 2nd hour (52 mm/hr) values are significantly elevated above the reference range (0-8 mm/hr for the first hour). This indicates inflammation or infection somewhere in the body.\n",
            "\n",
            "* **Serum Sodium:** 122 mmol/l is below the reference range of 135-146 mmol/l.  This indicates hyponatremia (low sodium levels in the blood), which can have various causes and requires further investigation.\n",
            "\n",
            "* **Serum Chloride:** 97 mmol/l is below the reference range of 98-107 mmol/l. This indicates hypochloremia (low chloride levels), often associated with hyponatremia or other electrolyte imbalances.\n",
            "\n",
            "\n",
            "**Important Note:**  These are only potential abnormalities.  The interpretation of these results requires a physician's assessment in the context of the patient's clinical presentation, symptoms, and medical history.  The elevated Widal test titers, while suggestive of typhoid, require correlation with clinical symptoms.  Similarly, the elevated ESR could be due to several conditions, and the low sodium and chloride levels need further evaluation to determine the underlying cause.  A medical professional should review these results and any additional information about Mr. Kishan Goud's condition to provide a proper diagnosis and treatment plan.\n",
            "\n"
          ]
        }
      ]
    },
    {
      "cell_type": "code",
      "source": [
        "def explain_medical_temrs(text):\n",
        "  \"\"\"Asks Gemini AI simplify medical terms for patient understanding.\"\"\"\n",
        "  model = genai.GenerativeModel(\"gemini-1.5-flash\")\n",
        "  prompt = f\"Explain the medical terms in the following health report in simple language:\\n\\n{text}\"\n",
        "  response = model.generate_content(prompt)\n",
        "  return response.text\n",
        "\n",
        "explanation = explain_medical_temrs(extracted_text)\n",
        "print(\"Simplified Explanation:\\n\",explanation)"
      ],
      "metadata": {
        "colab": {
          "base_uri": "https://localhost:8080/",
          "height": 1000
        },
        "id": "rbz-FU3GH6wt",
        "outputId": "0560944a-b7df-4727-990a-14aeeceb1b28"
      },
      "execution_count": 23,
      "outputs": [
        {
          "output_type": "stream",
          "name": "stdout",
          "text": [
            "Simplified Explanation:\n",
            " This report shows the results of several blood tests performed on Mr. Kishan Goud. Let's break down each section:\n",
            "\n",
            "**1. WIDAL Test:** This test checks for antibodies against *Salmonella typhi* and *Salmonella paratyphi*, bacteria that cause typhoid fever and paratyphoid fever.  The numbers (e.g., 1:160) represent the dilution of the sample at which the antibodies are still detectable.  Higher numbers suggest a higher likelihood of infection.  In this case:\n",
            "\n",
            "* **S. Typhi \"O\" 1:160:**  Suggests a possible past or present infection with *Salmonella typhi*.  The \"O\" refers to a specific part of the bacteria.\n",
            "* **S. Typhi \"H\" 1:80:** Also suggests possible past or present infection with *Salmonella typhi*.  The \"H\" refers to a different part of the bacteria.\n",
            "* **S. Paratyphi \"AH\" 1:20:**  Within the normal range, suggesting no current or recent infection with this type of *Salmonella*.\n",
            "* **S. Paratyphi \"BH\" 1:20:** Within the normal range, suggesting no current or recent infection with this type of *Salmonella*.\n",
            "\n",
            "**2. Dengue Serology:** This tests for dengue fever.  The results are all negative, meaning no evidence of dengue infection was found:\n",
            "\n",
            "* **Dengue NS1 Antigen:** Negative.\n",
            "* **Dengue IgG:** Negative.\n",
            "* **Dengue IgM:** Negative.\n",
            "\n",
            "**3. Erythrocyte Sedimentation Rate (ESR):** This measures how quickly red blood cells settle in a test tube. A higher ESR can indicate inflammation in the body. Mr. Goud's ESR is elevated (26 mm/hr in the first hour, 52 mm/hr in the second hour), suggesting possible inflammation.\n",
            "\n",
            "**4. Rapid Malaria Test:** This screens for malaria parasites. Both tests (for *Plasmodium vivax* (P.V) and *Plasmodium falciparum* (P.F)) are negative, meaning no malaria parasites were detected.\n",
            "\n",
            "**5. Complete Blood Picture (CBC):** This is a comprehensive blood test that provides information about various blood components:\n",
            "\n",
            "* **Hemoglobin (Hb):**  Measures the amount of oxygen-carrying protein in the blood.  Mr. Goud's level is within the normal range.\n",
            "* **Red Blood Cells (RBCs):**  Within the normal range.\n",
            "* **White Blood Cells (WBCs):** Within the normal range.\n",
            "* **Platelets:**  Within the normal range.\n",
            "* **Packed Cell Volume (PCV):**  Within the normal range.\n",
            "* **Differential Count:** This shows the proportions of different types of white blood cells. All are within normal ranges.\n",
            "* **Peripheral Blood Smear:**  A microscopic examination of the blood; results indicate normal-looking red blood cells and white blood cells within normal limits.\n",
            "\n",
            "**6. HbA1c:** This measures average blood sugar levels over the past 2-3 months.  Mr. Goud's HbA1c is 5.4%, indicating his blood sugar levels are within the normal range for someone who is not diabetic.\n",
            "\n",
            "**7. Serum Creatinine:** This measures kidney function. Mr. Goud's level is within the normal range.\n",
            "\n",
            "**8. Random Blood Glucose:** This measures blood sugar at a single point in time.  Mr. Goud's result is within the normal range.\n",
            "\n",
            "**9. Liver Function Test (LFT):** This group of tests assesses liver health:\n",
            "\n",
            "* **Total Bilirubin, Direct Bilirubin, Indirect Bilirubin:**  All within normal ranges, indicating normal liver function related to bilirubin processing.\n",
            "* **Alkaline Phosphatase (ALP):** Within the normal range.\n",
            "* **Aspartate Aminotransferase (AST) (SGOT):** Within the normal range.\n",
            "* **Alanine Aminotransferase (ALT) (SGPT):** Within the normal range.\n",
            "* **Total Protein & Albumin:** Within the normal range.\n",
            "* **Globulin:** Calculated from Total Protein and Albumin; value is inferred.\n",
            "* **A/G Ratio (Albumin/Globulin Ratio):**  Within the normal range.\n",
            "\n",
            "**10. Serum Electrolytes:** This measures the levels of important minerals in the blood:\n",
            "\n",
            "* **Sodium:** Slightly below the lower end of the normal range.\n",
            "* **Potassium:** Within the normal range.\n",
            "* **Chloride:** Slightly below the lower end of the normal range.\n",
            "\n",
            "\n",
            "**Overall:** While some results (elevated ESR and slightly low sodium and chloride) suggest some possible underlying issue, most of Mr. Goud's test results fall within the normal range.  The slightly low sodium and chloride may be clinically insignificant, or might indicate mild dehydration. The elevated ESR warrants further investigation to identify the cause of inflammation.  The slightly elevated Widal test results suggest possible past exposure to *Salmonella*, but without clinical symptoms, this is less concerning.  A doctor should interpret these results in the context of Mr. Goud's medical history and current symptoms.  This explanation is for informational purposes only and does not constitute medical advice.\n",
            "\n"
          ]
        }
      ]
    },
    {
      "cell_type": "code",
      "source": [
        "def ask_gemini_about_report(text, question):\n",
        "  \"\"\"Allows users to ask questions about their health report.\"\"\"\n",
        "  model = genai.GenerativeModel(\"gemini-1.5-flash\")\n",
        "  prompt = f\"The following is a health report:\\n\\n{question}\\n\\n{text}\\n\\nAnswer the following question based on the report:\\n\\\"\n",
        "  response = model.generate_content(prompt)\n",
        "  return response"
      ],
      "metadata": {
        "colab": {
          "base_uri": "https://localhost:8080/",
          "height": 109
        },
        "id": "G1HA6hQoIy7b",
        "outputId": "dc7d6423-bcc1-4492-9f72-bd38d7cd748e"
      },
      "execution_count": 24,
      "outputs": [
        {
          "output_type": "error",
          "ename": "SyntaxError",
          "evalue": "unterminated string literal (detected at line 4) (<ipython-input-24-3383d8e7a537>, line 4)",
          "traceback": [
            "\u001b[0;36m  File \u001b[0;32m\"<ipython-input-24-3383d8e7a537>\"\u001b[0;36m, line \u001b[0;32m4\u001b[0m\n\u001b[0;31m    prompt = f\"The following is a health report:\\n\\n{question}\\n\\n{text}\\n\\nAnswer the following question based on the report:\\n\\\"\u001b[0m\n\u001b[0m             ^\u001b[0m\n\u001b[0;31mSyntaxError\u001b[0m\u001b[0;31m:\u001b[0m unterminated string literal (detected at line 4)\n"
          ]
        }
      ]
    },
    {
      "cell_type": "code",
      "source": [],
      "metadata": {
        "id": "-CTnuLzqKRyN"
      },
      "execution_count": null,
      "outputs": []
    }
  ]
}